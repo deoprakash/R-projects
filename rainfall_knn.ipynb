{
  "nbformat": 4,
  "nbformat_minor": 0,
  "metadata": {
    "colab": {
      "provenance": [],
      "authorship_tag": "ABX9TyOAwllEZ3KkJpqe2tX6qBeq",
      "include_colab_link": true
    },
    "kernelspec": {
      "name": "ir",
      "display_name": "R"
    },
    "language_info": {
      "name": "R"
    }
  },
  "cells": [
    {
      "cell_type": "markdown",
      "metadata": {
        "id": "view-in-github",
        "colab_type": "text"
      },
      "source": [
        "<a href=\"https://colab.research.google.com/github/deoprakash/R-projects/blob/main/rainfall_knn.ipynb\" target=\"_parent\"><img src=\"https://colab.research.google.com/assets/colab-badge.svg\" alt=\"Open In Colab\"/></a>"
      ]
    },
    {
      "cell_type": "code",
      "source": [
        "install.packages(\"caret\")"
      ],
      "metadata": {
        "colab": {
          "base_uri": "https://localhost:8080/"
        },
        "id": "--_gL38Ixgwr",
        "outputId": "4633b9f7-0548-4001-cdf0-6cc4831f4d90"
      },
      "execution_count": 1,
      "outputs": [
        {
          "output_type": "stream",
          "name": "stderr",
          "text": [
            "Installing package into ‘/usr/local/lib/R/site-library’\n",
            "(as ‘lib’ is unspecified)\n",
            "\n",
            "also installing the dependencies ‘future.apply’, ‘lava’, ‘prodlim’, ‘clock’, ‘hardhat’, ‘ipred’, ‘timeDate’, ‘e1071’, ‘foreach’, ‘plyr’, ‘pROC’, ‘recipes’, ‘reshape2’\n",
            "\n",
            "\n"
          ]
        }
      ]
    },
    {
      "cell_type": "markdown",
      "source": [
        "## **Objective 1 : Importing Libraries**"
      ],
      "metadata": {
        "id": "tMIJ92-6ulWP"
      }
    },
    {
      "cell_type": "code",
      "source": [
        "#importing necessary librarries\n",
        "\n",
        "library(caret)\n",
        "library(class)\n",
        "library(ggplot2)"
      ],
      "metadata": {
        "id": "zQOmh-M0v1qy",
        "colab": {
          "base_uri": "https://localhost:8080/"
        },
        "outputId": "54a4d2f5-35d1-442e-ccb4-24951c4fabc7"
      },
      "execution_count": 2,
      "outputs": [
        {
          "output_type": "stream",
          "name": "stderr",
          "text": [
            "Loading required package: ggplot2\n",
            "\n",
            "Loading required package: lattice\n",
            "\n"
          ]
        }
      ]
    },
    {
      "cell_type": "markdown",
      "source": [
        "# **Objective 2: Load Dataset**"
      ],
      "metadata": {
        "id": "Yjjq4fKWwHJJ"
      }
    },
    {
      "cell_type": "code",
      "source": [
        "data<- read.csv(\"/content/Rainfall.csv\")\n",
        "head(data)"
      ],
      "metadata": {
        "colab": {
          "base_uri": "https://localhost:8080/",
          "height": 286
        },
        "id": "1SXMfDmYwE8l",
        "outputId": "2b93fe55-d0dd-49aa-8729-275d28c7f473"
      },
      "execution_count": 3,
      "outputs": [
        {
          "output_type": "display_data",
          "data": {
            "text/html": [
              "<table class=\"dataframe\">\n",
              "<caption>A data.frame: 6 × 12</caption>\n",
              "<thead>\n",
              "\t<tr><th></th><th scope=col>day</th><th scope=col>pressure</th><th scope=col>maxtemp</th><th scope=col>temparature</th><th scope=col>mintemp</th><th scope=col>dewpoint</th><th scope=col>humidity</th><th scope=col>cloud</th><th scope=col>sunshine</th><th scope=col>winddirection</th><th scope=col>windspeed</th><th scope=col>rainfall</th></tr>\n",
              "\t<tr><th></th><th scope=col>&lt;int&gt;</th><th scope=col>&lt;dbl&gt;</th><th scope=col>&lt;dbl&gt;</th><th scope=col>&lt;dbl&gt;</th><th scope=col>&lt;dbl&gt;</th><th scope=col>&lt;dbl&gt;</th><th scope=col>&lt;int&gt;</th><th scope=col>&lt;int&gt;</th><th scope=col>&lt;dbl&gt;</th><th scope=col>&lt;int&gt;</th><th scope=col>&lt;dbl&gt;</th><th scope=col>&lt;chr&gt;</th></tr>\n",
              "</thead>\n",
              "<tbody>\n",
              "\t<tr><th scope=row>1</th><td>1</td><td>1025.9</td><td>19.9</td><td>18.3</td><td>16.8</td><td>13.1</td><td>72</td><td>49</td><td>9.3</td><td>80</td><td>26.3</td><td>yes</td></tr>\n",
              "\t<tr><th scope=row>2</th><td>2</td><td>1022.0</td><td>21.7</td><td>18.9</td><td>17.2</td><td>15.6</td><td>81</td><td>83</td><td>0.6</td><td>50</td><td>15.3</td><td>yes</td></tr>\n",
              "\t<tr><th scope=row>3</th><td>3</td><td>1019.7</td><td>20.3</td><td>19.3</td><td>18.0</td><td>18.4</td><td>95</td><td>91</td><td>0.0</td><td>40</td><td>14.2</td><td>yes</td></tr>\n",
              "\t<tr><th scope=row>4</th><td>4</td><td>1018.9</td><td>22.3</td><td>20.6</td><td>19.1</td><td>18.8</td><td>90</td><td>88</td><td>1.0</td><td>50</td><td>16.9</td><td>yes</td></tr>\n",
              "\t<tr><th scope=row>5</th><td>5</td><td>1015.9</td><td>21.3</td><td>20.7</td><td>20.2</td><td>19.9</td><td>95</td><td>81</td><td>0.0</td><td>40</td><td>13.7</td><td>yes</td></tr>\n",
              "\t<tr><th scope=row>6</th><td>6</td><td>1018.8</td><td>24.3</td><td>20.9</td><td>19.2</td><td>18.0</td><td>84</td><td>51</td><td>7.7</td><td>20</td><td>14.5</td><td>yes</td></tr>\n",
              "</tbody>\n",
              "</table>\n"
            ],
            "text/markdown": "\nA data.frame: 6 × 12\n\n| <!--/--> | day &lt;int&gt; | pressure &lt;dbl&gt; | maxtemp &lt;dbl&gt; | temparature &lt;dbl&gt; | mintemp &lt;dbl&gt; | dewpoint &lt;dbl&gt; | humidity &lt;int&gt; | cloud &lt;int&gt; | sunshine &lt;dbl&gt; | winddirection &lt;int&gt; | windspeed &lt;dbl&gt; | rainfall &lt;chr&gt; |\n|---|---|---|---|---|---|---|---|---|---|---|---|---|\n| 1 | 1 | 1025.9 | 19.9 | 18.3 | 16.8 | 13.1 | 72 | 49 | 9.3 | 80 | 26.3 | yes |\n| 2 | 2 | 1022.0 | 21.7 | 18.9 | 17.2 | 15.6 | 81 | 83 | 0.6 | 50 | 15.3 | yes |\n| 3 | 3 | 1019.7 | 20.3 | 19.3 | 18.0 | 18.4 | 95 | 91 | 0.0 | 40 | 14.2 | yes |\n| 4 | 4 | 1018.9 | 22.3 | 20.6 | 19.1 | 18.8 | 90 | 88 | 1.0 | 50 | 16.9 | yes |\n| 5 | 5 | 1015.9 | 21.3 | 20.7 | 20.2 | 19.9 | 95 | 81 | 0.0 | 40 | 13.7 | yes |\n| 6 | 6 | 1018.8 | 24.3 | 20.9 | 19.2 | 18.0 | 84 | 51 | 7.7 | 20 | 14.5 | yes |\n\n",
            "text/latex": "A data.frame: 6 × 12\n\\begin{tabular}{r|llllllllllll}\n  & day & pressure & maxtemp & temparature & mintemp & dewpoint & humidity & cloud & sunshine & winddirection & windspeed & rainfall\\\\\n  & <int> & <dbl> & <dbl> & <dbl> & <dbl> & <dbl> & <int> & <int> & <dbl> & <int> & <dbl> & <chr>\\\\\n\\hline\n\t1 & 1 & 1025.9 & 19.9 & 18.3 & 16.8 & 13.1 & 72 & 49 & 9.3 & 80 & 26.3 & yes\\\\\n\t2 & 2 & 1022.0 & 21.7 & 18.9 & 17.2 & 15.6 & 81 & 83 & 0.6 & 50 & 15.3 & yes\\\\\n\t3 & 3 & 1019.7 & 20.3 & 19.3 & 18.0 & 18.4 & 95 & 91 & 0.0 & 40 & 14.2 & yes\\\\\n\t4 & 4 & 1018.9 & 22.3 & 20.6 & 19.1 & 18.8 & 90 & 88 & 1.0 & 50 & 16.9 & yes\\\\\n\t5 & 5 & 1015.9 & 21.3 & 20.7 & 20.2 & 19.9 & 95 & 81 & 0.0 & 40 & 13.7 & yes\\\\\n\t6 & 6 & 1018.8 & 24.3 & 20.9 & 19.2 & 18.0 & 84 & 51 & 7.7 & 20 & 14.5 & yes\\\\\n\\end{tabular}\n",
            "text/plain": [
              "  day pressure maxtemp temparature mintemp dewpoint humidity cloud sunshine\n",
              "1 1   1025.9   19.9    18.3        16.8    13.1     72       49    9.3     \n",
              "2 2   1022.0   21.7    18.9        17.2    15.6     81       83    0.6     \n",
              "3 3   1019.7   20.3    19.3        18.0    18.4     95       91    0.0     \n",
              "4 4   1018.9   22.3    20.6        19.1    18.8     90       88    1.0     \n",
              "5 5   1015.9   21.3    20.7        20.2    19.9     95       81    0.0     \n",
              "6 6   1018.8   24.3    20.9        19.2    18.0     84       51    7.7     \n",
              "  winddirection windspeed rainfall\n",
              "1 80            26.3      yes     \n",
              "2 50            15.3      yes     \n",
              "3 40            14.2      yes     \n",
              "4 50            16.9      yes     \n",
              "5 40            13.7      yes     \n",
              "6 20            14.5      yes     "
            ]
          },
          "metadata": {}
        }
      ]
    },
    {
      "cell_type": "markdown",
      "source": [
        "## **Objective 3: Preprocessing of Dataset**"
      ],
      "metadata": {
        "id": "tcSj31M8whRO"
      }
    },
    {
      "cell_type": "code",
      "source": [
        "# Handling missing values\n",
        "data <- na.omit(data)\n"
      ],
      "metadata": {
        "id": "mhhyKqbMwVqS"
      },
      "execution_count": 4,
      "outputs": []
    },
    {
      "cell_type": "code",
      "source": [
        "#Normalize the features\n",
        "\n",
        "processed_data = preProcess(data[,-ncol(data)], method = \"range\")\n",
        "data_normalized <- predict(processed_data, data[, -ncol(data)])"
      ],
      "metadata": {
        "id": "swyobpFYwrFu"
      },
      "execution_count": 5,
      "outputs": []
    },
    {
      "cell_type": "code",
      "source": [
        "# Add target variable back\n",
        "\n",
        "data_normalized$rainfall <- data$rainfall"
      ],
      "metadata": {
        "id": "23rz-BNlxamU"
      },
      "execution_count": 6,
      "outputs": []
    },
    {
      "cell_type": "code",
      "source": [
        "#Splitting data into train and test sets\n",
        "set.seed(123)\n",
        "trainIndex <- createDataPartition(data_normalized$rainfall, p = 0.7, list = FALSE)\n",
        "trainData <- data_normalized[trainIndex, ]\n",
        "testData <- data_normalized[-trainIndex, ]"
      ],
      "metadata": {
        "id": "uOLyeQD9xzbI"
      },
      "execution_count": 7,
      "outputs": []
    },
    {
      "cell_type": "markdown",
      "source": [
        "## **Objective 4: Train the Model**"
      ],
      "metadata": {
        "id": "BCmoSJKD1zxO"
      }
    },
    {
      "cell_type": "code",
      "source": [
        "# Train the KNN model\n",
        "k_value <- 5\n",
        "knn_model <- knn(train = trainData[, -ncol(trainData)],\n",
        "                 test = testData[, -ncol(testData)],\n",
        "                 cl = trainData$rainfall, k = k_value)\n"
      ],
      "metadata": {
        "id": "dUzWJ0Do0u_6"
      },
      "execution_count": 8,
      "outputs": []
    },
    {
      "cell_type": "markdown",
      "source": [
        "## **Objective 5 : Evaluation of Model**"
      ],
      "metadata": {
        "id": "PcATStsJ17q5"
      }
    },
    {
      "cell_type": "code",
      "source": [
        "# Convert the target variable (Rainfall) to a factor if it's not already\n",
        "testData$rainfall <- as.factor(testData$rainfall)\n",
        "\n",
        "# Convert the predicted values to a factor\n",
        "knn_pred <- as.factor(knn_model)\n",
        "\n",
        "# Ensure both predicted and actual values have the same levels\n",
        "levels(knn_pred) <- levels(testData$rainfall)\n",
        "\n",
        "# Create a confusion matrix\n",
        "conf_matrix <- confusionMatrix(knn_pred, testData$rainfall)\n",
        "\n",
        "# Print confusion matrix and accuracy\n",
        "print(conf_matrix)\n",
        "\n",
        "# Plot confusion matrix\n",
        "ggplot(as.data.frame(conf_matrix$table), aes(x = Reference, y = Prediction)) +\n",
        "  geom_tile(aes(fill = Freq), color = \"white\") +\n",
        "  geom_text(aes(label = Freq), vjust = 1) +\n",
        "  scale_fill_gradient(low = \"white\", high = \"blue\") +\n",
        "  theme_minimal() +\n",
        "  ggtitle(\"Confusion Matrix for KNN Model\")\n"
      ],
      "metadata": {
        "colab": {
          "base_uri": "https://localhost:8080/",
          "height": 905
        },
        "id": "wT24mL_A1BS0",
        "outputId": "65b8dd59-af50-499c-a2ac-992efa9f7051"
      },
      "execution_count": 9,
      "outputs": [
        {
          "output_type": "stream",
          "name": "stdout",
          "text": [
            "Confusion Matrix and Statistics\n",
            "\n",
            "          Reference\n",
            "Prediction no yes\n",
            "       no  22   6\n",
            "       yes 13  68\n",
            "                                          \n",
            "               Accuracy : 0.8257          \n",
            "                 95% CI : (0.7413, 0.8917)\n",
            "    No Information Rate : 0.6789          \n",
            "    P-Value [Acc > NIR] : 0.0004263       \n",
            "                                          \n",
            "                  Kappa : 0.5779          \n",
            "                                          \n",
            " Mcnemar's Test P-Value : 0.1686686       \n",
            "                                          \n",
            "            Sensitivity : 0.6286          \n",
            "            Specificity : 0.9189          \n",
            "         Pos Pred Value : 0.7857          \n",
            "         Neg Pred Value : 0.8395          \n",
            "             Prevalence : 0.3211          \n",
            "         Detection Rate : 0.2018          \n",
            "   Detection Prevalence : 0.2569          \n",
            "      Balanced Accuracy : 0.7737          \n",
            "                                          \n",
            "       'Positive' Class : no              \n",
            "                                          \n"
          ]
        },
        {
          "output_type": "display_data",
          "data": {
            "text/plain": [
              "plot without title"
            ],
            "image/png": "[encoded data removed]"
          },
          "metadata": {
            "image/png": {
              "width": 420,
              "height": 420
            }
          }
        }
      ]
    },
    {
      "cell_type": "markdown",
      "source": [
        "## **Objective 6: Prediction**"
      ],
      "metadata": {
        "id": "EmzvHsjy2-gD"
      }
    },
    {
      "cell_type": "code",
      "source": [
        "new_data <- data.frame(day = 2,\n",
        "  pressure = 1012,\n",
        "  maxtemp = 30,\n",
        "  temperature = 40,\n",
        "  mintemp = 22,\n",
        "  dewpoint = 18,\n",
        "  humidity = 20,\n",
        "  cloud = 20,\n",
        "  sunshine = 5,\n",
        "  winddirection = 180,\n",
        "  windspeed = 10\n",
        ")\n",
        "\n",
        "# Assuming new_data is a dataframe with the same features as train_data\n",
        "new_data_normalized <- as.data.frame(new_data)  # Normalize new data\n",
        "new_predictions <- knn(train = trainData[, -ncol(trainData)],\n",
        "                       test = new_data_normalized,\n",
        "                       cl = trainData$rainfall,\n",
        "                       k = k_value)\n",
        "new_predictions\n"
      ],
      "metadata": {
        "colab": {
          "base_uri": "https://localhost:8080/",
          "height": 52
        },
        "id": "K6YiYEOu7HHn",
        "outputId": "acc54411-b428-4564-a5b8-db19b9358b85"
      },
      "execution_count": 59,
      "outputs": [
        {
          "output_type": "display_data",
          "data": {
            "text/html": [
              "yes\n",
              "<details>\n",
              "\t<summary style=display:list-item;cursor:pointer>\n",
              "\t\t<strong>Levels</strong>:\n",
              "\t</summary>\n",
              "\t<style>\n",
              "\t.list-inline {list-style: none; margin:0; padding: 0}\n",
              "\t.list-inline>li {display: inline-block}\n",
              "\t.list-inline>li:not(:last-child)::after {content: \"\\00b7\"; padding: 0 .5ex}\n",
              "\t</style>\n",
              "\t<ol class=list-inline><li>'no'</li><li>'yes'</li></ol>\n",
              "</details>"
            ],
            "text/markdown": "yes\n**Levels**: 1. 'no'\n2. 'yes'\n\n\n",
            "text/latex": "yes\n\\emph{Levels}: \\begin{enumerate*}\n\\item 'no'\n\\item 'yes'\n\\end{enumerate*}\n",
            "text/plain": [
              "[1] yes\n",
              "Levels: no yes"
            ]
          },
          "metadata": {}
        }
      ]
    },
    {
      "cell_type": "code",
      "source": [],
      "metadata": {
        "id": "mckRWntW-GqB"
      },
      "execution_count": 58,
      "outputs": []
    }
  ]
}